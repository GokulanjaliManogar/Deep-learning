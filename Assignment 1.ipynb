{
 "cells": [
  {
   "cell_type": "code",
   "execution_count": 1,
   "id": "f2be18a7",
   "metadata": {},
   "outputs": [],
   "source": [
    "import tensorflow"
   ]
  },
  {
   "cell_type": "code",
   "execution_count": 2,
   "id": "ad4fe542",
   "metadata": {},
   "outputs": [],
   "source": [
    "from keras.preprocessing.sequence import pad_sequences\n",
    "from keras.models import Sequential\n",
    "from keras.layers import Embedding, GlobalAveragePooling1D, Dense\n",
    "from keras.datasets import imdb\n",
    "import numpy as np"
   ]
  },
  {
   "cell_type": "code",
   "execution_count": 3,
   "id": "b7e30667",
   "metadata": {},
   "outputs": [],
   "source": [
    "max_length=256\n",
    "padding_type='post'\n",
    "vocab_size=10000 "
   ]
  },
  {
   "cell_type": "code",
   "execution_count": 4,
   "id": "63d09a48",
   "metadata": {},
   "outputs": [
    {
     "name": "stdout",
     "output_type": "stream",
     "text": [
      "Downloading data from https://storage.googleapis.com/tensorflow/tf-keras-datasets/imdb.npz\n",
      "\u001b[1m17464789/17464789\u001b[0m \u001b[32m━━━━━━━━━━━━━━━━━━━━\u001b[0m\u001b[37m\u001b[0m \u001b[1m9s\u001b[0m 1us/step\n"
     ]
    }
   ],
   "source": [
    "(train_data,train_labels),(test_data,test_labels)=imdb.load_data(num_words=vocab_size)"
   ]
  },
  {
   "cell_type": "code",
   "execution_count": 5,
   "id": "1879d923",
   "metadata": {},
   "outputs": [],
   "source": [
    "def preprocess_data(data):\n",
    "    return pad_sequences(data,maxlen=max_length,padding=padding_type)"
   ]
  },
  {
   "cell_type": "code",
   "execution_count": 6,
   "id": "38c54275",
   "metadata": {},
   "outputs": [],
   "source": [
    "train_data=preprocess_data(train_data)\n",
    "test_data=preprocess_data(test_data)"
   ]
  },
  {
   "cell_type": "code",
   "execution_count": 7,
   "id": "1e847c35",
   "metadata": {},
   "outputs": [],
   "source": [
    "def build_model(vocab_size,embedding_dim=16,hidden_units=16):\n",
    "    model = Sequential([\n",
    "        Embedding(vocab_size,embedding_dim,input_length=max_length),\n",
    "        GlobalAveragePooling1D(),\n",
    "        Dense(hidden_units,activation='relu'),\n",
    "        Dense(1,activation='sigmoid')\n",
    "    ])\n",
    "    return model"
   ]
  },
  {
   "cell_type": "code",
   "execution_count": 8,
   "id": "715bb8ea",
   "metadata": {},
   "outputs": [
    {
     "name": "stderr",
     "output_type": "stream",
     "text": [
      "C:\\Users\\gokul\\anaconda3\\Lib\\site-packages\\keras\\src\\layers\\core\\embedding.py:90: UserWarning: Argument `input_length` is deprecated. Just remove it.\n",
      "  warnings.warn(\n"
     ]
    },
    {
     "data": {
      "text/html": [
       "<pre style=\"white-space:pre;overflow-x:auto;line-height:normal;font-family:Menlo,'DejaVu Sans Mono',consolas,'Courier New',monospace\"><span style=\"font-weight: bold\">Model: \"sequential\"</span>\n",
       "</pre>\n"
      ],
      "text/plain": [
       "\u001b[1mModel: \"sequential\"\u001b[0m\n"
      ]
     },
     "metadata": {},
     "output_type": "display_data"
    },
    {
     "data": {
      "text/html": [
       "<pre style=\"white-space:pre;overflow-x:auto;line-height:normal;font-family:Menlo,'DejaVu Sans Mono',consolas,'Courier New',monospace\">┏━━━━━━━━━━━━━━━━━━━━━━━━━━━━━━━━━━━━━━┳━━━━━━━━━━━━━━━━━━━━━━━━━━━━━┳━━━━━━━━━━━━━━━━━┓\n",
       "┃<span style=\"font-weight: bold\"> Layer (type)                         </span>┃<span style=\"font-weight: bold\"> Output Shape                </span>┃<span style=\"font-weight: bold\">         Param # </span>┃\n",
       "┡━━━━━━━━━━━━━━━━━━━━━━━━━━━━━━━━━━━━━━╇━━━━━━━━━━━━━━━━━━━━━━━━━━━━━╇━━━━━━━━━━━━━━━━━┩\n",
       "│ embedding (<span style=\"color: #0087ff; text-decoration-color: #0087ff\">Embedding</span>)                │ ?                           │     <span style=\"color: #00af00; text-decoration-color: #00af00\">0</span> (unbuilt) │\n",
       "├──────────────────────────────────────┼─────────────────────────────┼─────────────────┤\n",
       "│ global_average_pooling1d             │ ?                           │     <span style=\"color: #00af00; text-decoration-color: #00af00\">0</span> (unbuilt) │\n",
       "│ (<span style=\"color: #0087ff; text-decoration-color: #0087ff\">GlobalAveragePooling1D</span>)             │                             │                 │\n",
       "├──────────────────────────────────────┼─────────────────────────────┼─────────────────┤\n",
       "│ dense (<span style=\"color: #0087ff; text-decoration-color: #0087ff\">Dense</span>)                        │ ?                           │     <span style=\"color: #00af00; text-decoration-color: #00af00\">0</span> (unbuilt) │\n",
       "├──────────────────────────────────────┼─────────────────────────────┼─────────────────┤\n",
       "│ dense_1 (<span style=\"color: #0087ff; text-decoration-color: #0087ff\">Dense</span>)                      │ ?                           │     <span style=\"color: #00af00; text-decoration-color: #00af00\">0</span> (unbuilt) │\n",
       "└──────────────────────────────────────┴─────────────────────────────┴─────────────────┘\n",
       "</pre>\n"
      ],
      "text/plain": [
       "┏━━━━━━━━━━━━━━━━━━━━━━━━━━━━━━━━━━━━━━┳━━━━━━━━━━━━━━━━━━━━━━━━━━━━━┳━━━━━━━━━━━━━━━━━┓\n",
       "┃\u001b[1m \u001b[0m\u001b[1mLayer (type)                        \u001b[0m\u001b[1m \u001b[0m┃\u001b[1m \u001b[0m\u001b[1mOutput Shape               \u001b[0m\u001b[1m \u001b[0m┃\u001b[1m \u001b[0m\u001b[1m        Param #\u001b[0m\u001b[1m \u001b[0m┃\n",
       "┡━━━━━━━━━━━━━━━━━━━━━━━━━━━━━━━━━━━━━━╇━━━━━━━━━━━━━━━━━━━━━━━━━━━━━╇━━━━━━━━━━━━━━━━━┩\n",
       "│ embedding (\u001b[38;5;33mEmbedding\u001b[0m)                │ ?                           │     \u001b[38;5;34m0\u001b[0m (unbuilt) │\n",
       "├──────────────────────────────────────┼─────────────────────────────┼─────────────────┤\n",
       "│ global_average_pooling1d             │ ?                           │     \u001b[38;5;34m0\u001b[0m (unbuilt) │\n",
       "│ (\u001b[38;5;33mGlobalAveragePooling1D\u001b[0m)             │                             │                 │\n",
       "├──────────────────────────────────────┼─────────────────────────────┼─────────────────┤\n",
       "│ dense (\u001b[38;5;33mDense\u001b[0m)                        │ ?                           │     \u001b[38;5;34m0\u001b[0m (unbuilt) │\n",
       "├──────────────────────────────────────┼─────────────────────────────┼─────────────────┤\n",
       "│ dense_1 (\u001b[38;5;33mDense\u001b[0m)                      │ ?                           │     \u001b[38;5;34m0\u001b[0m (unbuilt) │\n",
       "└──────────────────────────────────────┴─────────────────────────────┴─────────────────┘\n"
      ]
     },
     "metadata": {},
     "output_type": "display_data"
    },
    {
     "data": {
      "text/html": [
       "<pre style=\"white-space:pre;overflow-x:auto;line-height:normal;font-family:Menlo,'DejaVu Sans Mono',consolas,'Courier New',monospace\"><span style=\"font-weight: bold\"> Total params: </span><span style=\"color: #00af00; text-decoration-color: #00af00\">0</span> (0.00 B)\n",
       "</pre>\n"
      ],
      "text/plain": [
       "\u001b[1m Total params: \u001b[0m\u001b[38;5;34m0\u001b[0m (0.00 B)\n"
      ]
     },
     "metadata": {},
     "output_type": "display_data"
    },
    {
     "data": {
      "text/html": [
       "<pre style=\"white-space:pre;overflow-x:auto;line-height:normal;font-family:Menlo,'DejaVu Sans Mono',consolas,'Courier New',monospace\"><span style=\"font-weight: bold\"> Trainable params: </span><span style=\"color: #00af00; text-decoration-color: #00af00\">0</span> (0.00 B)\n",
       "</pre>\n"
      ],
      "text/plain": [
       "\u001b[1m Trainable params: \u001b[0m\u001b[38;5;34m0\u001b[0m (0.00 B)\n"
      ]
     },
     "metadata": {},
     "output_type": "display_data"
    },
    {
     "data": {
      "text/html": [
       "<pre style=\"white-space:pre;overflow-x:auto;line-height:normal;font-family:Menlo,'DejaVu Sans Mono',consolas,'Courier New',monospace\"><span style=\"font-weight: bold\"> Non-trainable params: </span><span style=\"color: #00af00; text-decoration-color: #00af00\">0</span> (0.00 B)\n",
       "</pre>\n"
      ],
      "text/plain": [
       "\u001b[1m Non-trainable params: \u001b[0m\u001b[38;5;34m0\u001b[0m (0.00 B)\n"
      ]
     },
     "metadata": {},
     "output_type": "display_data"
    }
   ],
   "source": [
    "model=build_model(vocab_size)\n",
    "model.compile(optimizer='adam',loss='binary_crossentropy',metrics=['accuracy'])\n",
    "model.summary()"
   ]
  },
  {
   "cell_type": "code",
   "execution_count": 9,
   "id": "1cc281ba",
   "metadata": {},
   "outputs": [
    {
     "name": "stdout",
     "output_type": "stream",
     "text": [
      "Epoch 1/10\n",
      "782/782 - 3s - 4ms/step - accuracy: 0.7332 - loss: 0.5443 - val_accuracy: 0.8318 - val_loss: 0.3851\n",
      "Epoch 2/10\n",
      "782/782 - 2s - 3ms/step - accuracy: 0.8756 - loss: 0.3064 - val_accuracy: 0.8700 - val_loss: 0.3112\n",
      "Epoch 3/10\n",
      "782/782 - 2s - 3ms/step - accuracy: 0.9014 - loss: 0.2475 - val_accuracy: 0.8818 - val_loss: 0.2877\n",
      "Epoch 4/10\n",
      "782/782 - 2s - 3ms/step - accuracy: 0.9144 - loss: 0.2189 - val_accuracy: 0.8856 - val_loss: 0.2799\n",
      "Epoch 5/10\n",
      "782/782 - 2s - 3ms/step - accuracy: 0.9261 - loss: 0.1930 - val_accuracy: 0.8789 - val_loss: 0.2924\n",
      "Epoch 6/10\n",
      "782/782 - 2s - 3ms/step - accuracy: 0.9368 - loss: 0.1717 - val_accuracy: 0.8634 - val_loss: 0.3339\n",
      "Epoch 7/10\n",
      "782/782 - 2s - 3ms/step - accuracy: 0.9388 - loss: 0.1613 - val_accuracy: 0.8692 - val_loss: 0.3257\n",
      "Epoch 8/10\n",
      "782/782 - 2s - 3ms/step - accuracy: 0.9434 - loss: 0.1520 - val_accuracy: 0.8663 - val_loss: 0.3392\n",
      "Epoch 9/10\n",
      "782/782 - 2s - 3ms/step - accuracy: 0.9489 - loss: 0.1405 - val_accuracy: 0.8715 - val_loss: 0.3357\n",
      "Epoch 10/10\n",
      "782/782 - 2s - 3ms/step - accuracy: 0.9528 - loss: 0.1320 - val_accuracy: 0.8732 - val_loss: 0.3415\n",
      "782/782 - 1s - 1ms/step - accuracy: 0.8732 - loss: 0.3415\n",
      "Test Accuracy:0.8732399940490723,Test Loss:0.3414580523967743\n"
     ]
    }
   ],
   "source": [
    "history=model.fit(train_data,train_labels,epochs=10,batch_size=32,validation_data=(test_data,test_labels),verbose=2)\n",
    "test_loss, test_acc=model.evaluate(test_data,test_labels,verbose=2)\n",
    "print(f\"Test Accuracy:{test_acc},Test Loss:{test_loss}\")"
   ]
  },
  {
   "cell_type": "code",
   "execution_count": 10,
   "id": "2605d91a",
   "metadata": {},
   "outputs": [
    {
     "name": "stdout",
     "output_type": "stream",
     "text": [
      "Downloading data from https://storage.googleapis.com/tensorflow/tf-keras-datasets/imdb_word_index.json\n",
      "\u001b[1m1641221/1641221\u001b[0m \u001b[32m━━━━━━━━━━━━━━━━━━━━\u001b[0m\u001b[37m\u001b[0m \u001b[1m5s\u001b[0m 3us/step\n"
     ]
    }
   ],
   "source": [
    "word_index=imdb.get_word_index()\n",
    "def decode_review(encoded_review):\n",
    "    reverse_word_index=dict([(value,key) for (key,value) in word_index.items()])\n",
    "    return ' '.join([reverse_word_index.get(i-3,'?') for i in encoded_review if i>=3])"
   ]
  },
  {
   "cell_type": "code",
   "execution_count": 11,
   "id": "61ce6153",
   "metadata": {},
   "outputs": [],
   "source": [
    "def display_incorrect_predictions(test_data,test_labels,predictions,num_examples=3):\n",
    "    predicted_classes=(predictions>0.5).astype(int)\n",
    "    incorrect_indices=np.where(predicted_classes.flatten()!=test_labels)[0]\n",
    "    for i,idx in enumerate(incorrect_indices[:num_examples]):\n",
    "        print(f\"Incorrect Prediction{i+1}:\")\n",
    "        print(f\"Review: {decode_review(test_data[idx])}\")\n",
    "        print(f\"Actual Sentiment:{'Positive' if test_labels[idx]==1 else 'Negative'}\")\n",
    "        print(f\"Predicted Sentiment:{'Positive' if predicted_classes[idx][0]==1 else 'Negative'}\")"
   ]
  },
  {
   "cell_type": "code",
   "execution_count": 12,
   "id": "457407ce",
   "metadata": {},
   "outputs": [
    {
     "name": "stdout",
     "output_type": "stream",
     "text": [
      "\u001b[1m782/782\u001b[0m \u001b[32m━━━━━━━━━━━━━━━━━━━━\u001b[0m\u001b[37m\u001b[0m \u001b[1m1s\u001b[0m 970us/step\n",
      "Incorrect Prediction1:\n",
      "Review: i generally love this type of movie however this time i found myself wanting to kick the screen since i can't do that i will just complain about it this was absolutely idiotic the things that happen with the dead kids are very cool but the alive people are absolute idiots i am a grown man pretty big and i can defend myself well however i would not do half the stuff the little girl does in this movie also the mother in this movie is reckless with her children to the point of neglect i wish i wasn't so angry about her and her actions because i would have otherwise enjoyed the flick what a number she was take my advise and fast forward through everything you see her do until the end also is anyone else getting sick of watching movies that are filmed so dark anymore one can hardly see what is being filmed as an audience we are involved with the actions on the screen so then why the hell can't we have night vision\n",
      "Actual Sentiment:Negative\n",
      "Predicted Sentiment:Positive\n",
      "Incorrect Prediction2:\n",
      "Review: hollywood had a long love affair with bogus nights tales but few of these products have stood the test of time the most memorable were the jon hall maria films which have long since become camp this one is filled with dubbed songs and slapstick it's a truly crop of corn and pretty near today it was nominated for its imaginative special effects which are almost in this day and age mainly of trick photography the only outstanding positive feature which survives is its beautiful color and clarity sad to say of the many films made in this genre few of them come up to alexander original thief of almost any other nights film is superior to this one though it's a loser\n",
      "Actual Sentiment:Negative\n",
      "Predicted Sentiment:Positive\n",
      "Incorrect Prediction3:\n",
      "Review: ed mitchell is a teenager who lives for his job at good a small but friendly neighborhood stand while his buddy thompson also works there but lack single minded devotion to his job he's there because he accidentally destroyed the car of his teacher mr and has to raise money to pay the when a fast foot chain opens across the street it looks like good is history until ed a secret that brings hundreds of new customers to their door however the manager of kurt jan is determined to get his hands on the and put good out of business meanwhile ed and must rescue the world's oldest fast food employee from the demented hills asylum and ed might just find love with jackson if he could take his mind off the long enough to pay attention to her good is a comedy directed for kids decent story acting and overall a pretty harmless kids movie\n",
      "Actual Sentiment:Negative\n",
      "Predicted Sentiment:Positive\n"
     ]
    }
   ],
   "source": [
    "predictions=model.predict(test_data)\n",
    "display_incorrect_predictions(test_data,test_labels,predictions)"
   ]
  },
  {
   "cell_type": "code",
   "execution_count": 13,
   "id": "2390a325",
   "metadata": {},
   "outputs": [],
   "source": [
    "def predict_and_display_reviews(reviews):\n",
    "    sequences=[[word_index.get(word,2) for word in review.lower().split()] for review in reviews]\n",
    "    padded_sequences=preprocess_data(sequences)\n",
    "    sample_predictions=model.predict(padded_sequences)\n",
    "    sample_predicted_classes=(sample_predictions>0.5).astype(int)\n",
    "    for i, review in enumerate(reviews):\n",
    "        print(f\"Review{i+1}:{review}\")\n",
    "        print(f'Predicted Score:{sample_predictions[i]}')\n",
    "        print(f\"Predicted Sentiment:{'Positive' if sample_predicted_classes[i][0]==1 else 'Negative'}\")\n",
    "        print(\"--------------------------------------------------------------------------------\\n\")"
   ]
  },
  {
   "cell_type": "code",
   "execution_count": 14,
   "id": "31e16b11",
   "metadata": {},
   "outputs": [
    {
     "name": "stdout",
     "output_type": "stream",
     "text": [
      "\u001b[1m1/1\u001b[0m \u001b[32m━━━━━━━━━━━━━━━━━━━━\u001b[0m\u001b[37m\u001b[0m \u001b[1m0s\u001b[0m 22ms/step\n",
      "Review1:This movie was an excellent portrayal of character development and had stellar acting.\n",
      "Predicted Score:[0.5903113]\n",
      "Predicted Sentiment:Positive\n",
      "--------------------------------------------------------------------------------\n",
      "\n",
      "Review2:I found the movie to be predictable with a lackluster script.\n",
      "Predicted Score:[0.4171205]\n",
      "Predicted Sentiment:Negative\n",
      "--------------------------------------------------------------------------------\n",
      "\n",
      "Review3:The cinematography was magnificent, and the pacing was perfect. Highly recommend watching.\n",
      "Predicted Score:[0.20416282]\n",
      "Predicted Sentiment:Negative\n",
      "--------------------------------------------------------------------------------\n",
      "\n",
      "Review4:It was a terrible movie that wasted two hours of my life. The plot made no sense.\n",
      "Predicted Score:[0.6483499]\n",
      "Predicted Sentiment:Positive\n",
      "--------------------------------------------------------------------------------\n",
      "\n",
      "Review5:An absolute masterpiece, with a gripping story and profound performances.\n",
      "Predicted Score:[0.6872697]\n",
      "Predicted Sentiment:Positive\n",
      "--------------------------------------------------------------------------------\n",
      "\n"
     ]
    }
   ],
   "source": [
    "reviews = [\n",
    "    \"This movie was an excellent portrayal of character development and had stellar acting.\",\n",
    "    \"I found the movie to be predictable with a lackluster script.\",\n",
    "    \"The cinematography was magnificent, and the pacing was perfect. Highly recommend watching.\",\n",
    "    \"It was a terrible movie that wasted two hours of my life. The plot made no sense.\",\n",
    "    \"An absolute masterpiece, with a gripping story and profound performances.\"\n",
    "]\n",
    "predict_and_display_reviews(reviews)"
   ]
  },
  {
   "cell_type": "code",
   "execution_count": null,
   "id": "3321d041",
   "metadata": {},
   "outputs": [],
   "source": []
  }
 ],
 "metadata": {
  "kernelspec": {
   "display_name": "Python 3 (ipykernel)",
   "language": "python",
   "name": "python3"
  },
  "language_info": {
   "codemirror_mode": {
    "name": "ipython",
    "version": 3
   },
   "file_extension": ".py",
   "mimetype": "text/x-python",
   "name": "python",
   "nbconvert_exporter": "python",
   "pygments_lexer": "ipython3",
   "version": "3.11.5"
  }
 },
 "nbformat": 4,
 "nbformat_minor": 5
}
